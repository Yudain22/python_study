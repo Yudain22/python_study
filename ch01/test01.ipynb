{
 "cells": [
  {
   "cell_type": "code",
   "execution_count": 14,
   "metadata": {},
   "outputs": [
    {
     "name": "stdout",
     "output_type": "stream",
     "text": [
      "30\n"
     ]
    }
   ],
   "source": [
    "a=10\n",
    "b=20\n",
    "print(a+b)"
   ]
  },
  {
   "cell_type": "markdown",
   "metadata": {},
   "source": [
    "# Markdown은 설명을 적는 곳이다\n",
    "맨 앞에 '#'을 하면 큰 제목이 됨\n",
    "파이썬 첫번째 예제"
   ]
  },
  {
   "cell_type": "code",
   "execution_count": 16,
   "metadata": {},
   "outputs": [],
   "source": [
    "a=10\n",
    "b=4"
   ]
  },
  {
   "cell_type": "code",
   "execution_count": 17,
   "metadata": {},
   "outputs": [
    {
     "name": "stdout",
     "output_type": "stream",
     "text": [
      "14\n",
      "6\n",
      "40\n",
      "2.5\n",
      "2\n",
      "2\n",
      "10000\n"
     ]
    }
   ],
   "source": [
    "print(a+b)\n",
    "print(a-b)\n",
    "print(a*b)\n",
    "print(a/b)\n",
    "print(a//b)\n",
    "print(a%b)\n",
    "print(a**b)"
   ]
  },
  {
   "cell_type": "markdown",
   "metadata": {},
   "source": [
    "더하기\n",
    "빼기\n",
    "곱하기\n",
    "나누기\n",
    "몫\n",
    "나머지\n",
    "제곱"
   ]
  },
  {
   "cell_type": "code",
   "execution_count": 18,
   "metadata": {},
   "outputs": [
    {
     "name": "stdout",
     "output_type": "stream",
     "text": [
      "11\n",
      "10\n"
     ]
    }
   ],
   "source": [
    "a+=1;print(a)\n",
    "a-=1;print(a)"
   ]
  },
  {
   "cell_type": "code",
   "execution_count": 19,
   "metadata": {},
   "outputs": [
    {
     "name": "stdout",
     "output_type": "stream",
     "text": [
      "True\n",
      "False\n",
      "False\n",
      "True\n",
      "True\n",
      "False\n"
     ]
    }
   ],
   "source": [
    "print(a>b)\n",
    "print(a<b)\n",
    "print(a==b)\n",
    "print(a!=b)\n",
    "print(a>=b)\n",
    "print(a<=b)"
   ]
  },
  {
   "cell_type": "code",
   "execution_count": 20,
   "metadata": {},
   "outputs": [
    {
     "name": "stdout",
     "output_type": "stream",
     "text": [
      "10 4\n"
     ]
    }
   ],
   "source": [
    "print(a,b)"
   ]
  },
  {
   "cell_type": "code",
   "execution_count": null,
   "metadata": {},
   "outputs": [],
   "source": []
  },
  {
   "cell_type": "markdown",
   "metadata": {},
   "source": [
    "1010\n",
    "8421\n",
    "\n",
    "a=1010\n",
    "b=0100\n"
   ]
  },
  {
   "cell_type": "code",
   "execution_count": 24,
   "metadata": {},
   "outputs": [
    {
     "name": "stdout",
     "output_type": "stream",
     "text": [
      "0\n",
      "14\n",
      "14\n",
      "-10\n",
      "80\n",
      "2\n"
     ]
    }
   ],
   "source": [
    "print(a&b)\n",
    "print(a|b)\n",
    "print(a^b)\n",
    "print(~a+1)\n",
    "print(a<<2)\n",
    "print(a>>2)"
   ]
  },
  {
   "cell_type": "markdown",
   "metadata": {},
   "source": [
    "양수 비트를 반전시키면 -0이 없어서 -11이 됨 \n",
    "a<<2 오른쪽으로 2비트 민다\n",
    "10100 1비트만 밀었을때\n",
    "101000 2비트 밀었을때\n",
    "2에 2승을 곱한 것과 같음\n",
    "a<<3은 2에 3승을 곱한 것 즉 8을 곱한 것임\n",
    "a>>2\n",
    "0101\n",
    "0010"
   ]
  },
  {
   "cell_type": "code",
   "execution_count": 25,
   "metadata": {},
   "outputs": [
    {
     "name": "stdout",
     "output_type": "stream",
     "text": [
      "True\n",
      "False\n",
      "True\n",
      "False\n",
      "False\n",
      "True\n"
     ]
    }
   ],
   "source": [
    "print(a>5 and b<5)\n",
    "print(a>5 and b>5)\n",
    "print(a>5 or b<5)\n",
    "print(not(a>5 or b<5))\n",
    "print(a<5 or b>5)\n",
    "print(not(a<5 or b>5))"
   ]
  },
  {
   "cell_type": "code",
   "execution_count": 26,
   "metadata": {},
   "outputs": [
    {
     "name": "stdout",
     "output_type": "stream",
     "text": [
      "10 10.0\n",
      "10 10.0 10\n"
     ]
    }
   ],
   "source": [
    "b=float(a)\n",
    "print(a,b)\n",
    "c=int(a)\n",
    "print(a,b,c)"
   ]
  },
  {
   "cell_type": "code",
   "execution_count": 27,
   "metadata": {},
   "outputs": [
    {
     "name": "stdout",
     "output_type": "stream",
     "text": [
      "3.3333333333333335\n"
     ]
    }
   ],
   "source": [
    "print(a/3)"
   ]
  },
  {
   "cell_type": "code",
   "execution_count": 29,
   "metadata": {},
   "outputs": [
    {
     "name": "stdout",
     "output_type": "stream",
     "text": [
      "True\n",
      "True\n"
     ]
    }
   ],
   "source": [
    "print(1==True)\n",
    "print(0==False)"
   ]
  },
  {
   "cell_type": "code",
   "execution_count": 30,
   "metadata": {},
   "outputs": [
    {
     "name": "stdout",
     "output_type": "stream",
     "text": [
      "25.6 55.6 25.6 55.6\n",
      "<class 'str'> <class 'float'>\n"
     ]
    }
   ],
   "source": [
    "a='25.6'\n",
    "b=\"55.6\"\n",
    "fa=float(a)\n",
    "fb=float(b)\n",
    "print(a,b,fa,fb)\n",
    "print(type(a),type(fa))"
   ]
  },
  {
   "cell_type": "code",
   "execution_count": 33,
   "metadata": {},
   "outputs": [
    {
     "name": "stdout",
     "output_type": "stream",
     "text": [
      "25.6 55.6\n",
      "25.655.6\n",
      "81.2\n"
     ]
    }
   ],
   "source": [
    "print(a+' '+b)\n",
    "print(a+b)\n",
    "print (fa+fb)"
   ]
  },
  {
   "cell_type": "markdown",
   "metadata": {},
   "source": [
    "print(a+fb) 에러 뜸 타입이 같은 것끼리 연산 가능"
   ]
  },
  {
   "cell_type": "code",
   "execution_count": 34,
   "metadata": {},
   "outputs": [
    {
     "name": "stdout",
     "output_type": "stream",
     "text": [
      "**********\n"
     ]
    }
   ],
   "source": [
    "s1=\"*\"\n",
    "print(s1*10)"
   ]
  },
  {
   "cell_type": "code",
   "execution_count": 36,
   "metadata": {},
   "outputs": [
    {
     "name": "stdout",
     "output_type": "stream",
     "text": [
      "True\n",
      "False\n"
     ]
    }
   ],
   "source": [
    "s2=\"abcd\"\n",
    "print('a' in s2)\n",
    "print('a' not in s2)"
   ]
  },
  {
   "cell_type": "markdown",
   "metadata": {},
   "source": [
    "sql in 느낌"
   ]
  },
  {
   "cell_type": "code",
   "execution_count": 37,
   "metadata": {},
   "outputs": [
    {
     "name": "stdout",
     "output_type": "stream",
     "text": [
      "유다인\n"
     ]
    }
   ],
   "source": [
    "name=input(\"이름을 입력하세요\")\n",
    "print(name)"
   ]
  },
  {
   "cell_type": "markdown",
   "metadata": {},
   "source": [
    "입출력 실습하기"
   ]
  },
  {
   "cell_type": "code",
   "execution_count": 38,
   "metadata": {},
   "outputs": [
    {
     "name": "stdout",
     "output_type": "stream",
     "text": [
      "섭씨 온도: 32.2\n",
      "화씨 온도: 89.96000000000001\n"
     ]
    }
   ],
   "source": [
    "c=float(input(\"섭씨 온도를 입력하세요\"))\n",
    "f=(c*1.8)+32\n",
    "print(\"섭씨 온도:\",c)\n",
    "print(\"화씨 온도:\",f)\n"
   ]
  },
  {
   "cell_type": "code",
   "execution_count": 45,
   "metadata": {},
   "outputs": [
    {
     "name": "stdout",
     "output_type": "stream",
     "text": [
      "Right\n",
      "a is 5\n",
      "********\n"
     ]
    }
   ],
   "source": [
    "a=5\n",
    "if(a==5):\n",
    "    print(\"Right\")\n",
    "    print(\"a is 5\")\n",
    "\n",
    "else:\n",
    "    print(\"a is not\",a)\n",
    "\n",
    "print(\"********\")"
   ]
  },
  {
   "cell_type": "code",
   "execution_count": 48,
   "metadata": {},
   "outputs": [
    {
     "name": "stdout",
     "output_type": "stream",
     "text": [
      "C등급\n"
     ]
    }
   ],
   "source": [
    "score=float(input(\"점수 입력\"))\n",
    "\n",
    "if(score>=90):\n",
    "    print(\"A등급\")\n",
    "elif(score>=80):\n",
    "    print(\"B등급\")\n",
    "elif(score>=70):\n",
    "    print(\"C등급\")\n",
    "elif(score>=60):\n",
    "    print(\"D등급\")   \n",
    "else:\n",
    "    print(\"F등급\")"
   ]
  },
  {
   "cell_type": "code",
   "execution_count": 52,
   "metadata": {},
   "outputs": [
    {
     "name": "stdout",
     "output_type": "stream",
     "text": [
      "평균: 70.0  합격\n"
     ]
    }
   ],
   "source": [
    "#평균이 70점 이상이고, 각 과목의 점수는 60점 이상이면 합격\n",
    "score1=float(input(\"점수1\"))\n",
    "score2=float(input(\"점수2\"))\n",
    "\n",
    "avg=(score1+score2)/2\n",
    "\n",
    "if(avg>=70 and score1,score2>=60):\n",
    "    print(\"평균:\",avg,\" 합격\")\n",
    "else:\n",
    "    print(\"평균:\",avg,\"불합격\")\n"
   ]
  },
  {
   "cell_type": "code",
   "execution_count": 56,
   "metadata": {},
   "outputs": [
    {
     "name": "stdout",
     "output_type": "stream",
     "text": [
      "평균: 70.0  합격\n"
     ]
    }
   ],
   "source": [
    "#평균이 70점 이상이거나, 각 과목의 점수는 60점 이상이면 합격\n",
    "score1=float(input(\"점수1\"))\n",
    "score2=float(input(\"점수2\"))\n",
    "\n",
    "avg=(score1+score2)/2\n",
    "\n",
    "if(avg>=70 or score1,score2>=60):\n",
    "    print(\"평균:\",avg,\" 합격\")\n",
    "else:\n",
    "    print(\"평균:\",avg,\"불합격\")\n"
   ]
  },
  {
   "cell_type": "code",
   "execution_count": 66,
   "metadata": {},
   "outputs": [
    {
     "name": "stdout",
     "output_type": "stream",
     "text": [
      "초등학생\n"
     ]
    }
   ],
   "source": [
    "#응용예제2\n",
    "\n",
    "year=float(input(\"당신이 태어난 연도를 입력하세요.\"))\n",
    "age=2024-year+1\n",
    "if(20<=age<=26):\n",
    "    print(\"대학생\")\n",
    "elif(17<=age<20):\n",
    "    print(\"고등학생\")\n",
    "elif(14<=age<17):\n",
    "    print(\"중학생\")\n",
    "elif(8<=age<14):\n",
    "    print(\"초등학생\")\n",
    "else:\n",
    "    print(\"학생이 아닙니다.\")"
   ]
  }
 ],
 "metadata": {
  "kernelspec": {
   "display_name": "base",
   "language": "python",
   "name": "python3"
  },
  "language_info": {
   "codemirror_mode": {
    "name": "ipython",
    "version": 3
   },
   "file_extension": ".py",
   "mimetype": "text/x-python",
   "name": "python",
   "nbconvert_exporter": "python",
   "pygments_lexer": "ipython3",
   "version": "3.12.4"
  }
 },
 "nbformat": 4,
 "nbformat_minor": 2
}

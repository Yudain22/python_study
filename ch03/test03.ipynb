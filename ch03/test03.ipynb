{
 "cells": [
  {
   "cell_type": "code",
   "execution_count": 4,
   "metadata": {},
   "outputs": [
    {
     "name": "stdout",
     "output_type": "stream",
     "text": [
      "5\n",
      "9\n",
      "3\n"
     ]
    }
   ],
   "source": [
    "def f(x):\n",
    "    y=x\n",
    "    x=5\n",
    "    print(x)\n",
    "    return y*y\n",
    "x=3\n",
    "print(f(x))\n",
    "print(x)"
   ]
  },
  {
   "cell_type": "code",
   "execution_count": 5,
   "metadata": {},
   "outputs": [
    {
     "name": "stdout",
     "output_type": "stream",
     "text": [
      "[0, 1]\n"
     ]
    }
   ],
   "source": [
    "def spam(eggs):\n",
    "    eggs.append(1)\n",
    "    eggs = [2,3]\n",
    "\n",
    "ham = [0]\n",
    "spam(ham)\n",
    "print(ham)"
   ]
  },
  {
   "cell_type": "code",
   "execution_count": 7,
   "metadata": {},
   "outputs": [
    {
     "name": "stdout",
     "output_type": "stream",
     "text": [
      "10\n",
      "In Funtion: 20\n",
      "In main: 10\n"
     ]
    }
   ],
   "source": [
    "def test(t):\n",
    "    print(x)\n",
    "    t=20\n",
    "    print('In Funtion:',t)\n",
    "\n",
    "x=10\n",
    "test(x)\n",
    "print('In main:',x)\n",
    "#print('In Main:',t) #지역변수 t 사용 에러"
   ]
  },
  {
   "cell_type": "code",
   "execution_count": 8,
   "metadata": {},
   "outputs": [
    {
     "name": "stdout",
     "output_type": "stream",
     "text": [
      "In function: I love London!\n",
      "In Main: I love Paris!\n"
     ]
    }
   ],
   "source": [
    "def f():\n",
    "    s=\"I love London!\"\n",
    "    print('In function:',s)\n",
    "\n",
    "s=\"I love Paris!\"\n",
    "f()\n",
    "print(\"In Main:\",s)"
   ]
  },
  {
   "cell_type": "code",
   "execution_count": 9,
   "metadata": {},
   "outputs": [
    {
     "name": "stdout",
     "output_type": "stream",
     "text": [
      "In function: I love London!\n",
      "In Main: I love London!\n"
     ]
    }
   ],
   "source": [
    "def f():\n",
    "    global s\n",
    "    s=\"I love London!\"\n",
    "    print('In function:',s)\n",
    "\n",
    "s=\"I love Paris!\"\n",
    "f()\n",
    "print(\"In Main:\",s)"
   ]
  },
  {
   "cell_type": "code",
   "execution_count": 10,
   "metadata": {},
   "outputs": [
    {
     "name": "stdout",
     "output_type": "stream",
     "text": [
      "10 20 10\n",
      "10 20 30\n"
     ]
    }
   ],
   "source": [
    "def f1(a,b,c=10): #맨 마지막 숫자만 지정 가능 맨 앞숫자는 해도 다른 지정값이 들어감\n",
    "    print(a,b,c)\n",
    "\n",
    "f1(10,20)\n",
    "f1(10,20,30)"
   ]
  },
  {
   "cell_type": "code",
   "execution_count": 14,
   "metadata": {},
   "outputs": [
    {
     "name": "stdout",
     "output_type": "stream",
     "text": [
      "1 2 3\n",
      "20 10 30\n"
     ]
    }
   ],
   "source": [
    "def f(a,b,c):\n",
    "    print(a,b,c)\n",
    "f(1,2,3)\n",
    "f(b=10,c=30,a=20)\n"
   ]
  },
  {
   "cell_type": "code",
   "execution_count": 17,
   "metadata": {},
   "outputs": [
    {
     "name": "stdout",
     "output_type": "stream",
     "text": [
      "1 2 (3,)\n",
      "1 2 3\n",
      "1 2 (3, 4, 5)\n",
      "1 2 3 4 5\n",
      "1 2 (3, 4, 5, 6, 7)\n",
      "1 2 3 4 5 6 7\n"
     ]
    }
   ],
   "source": [
    "def func1(a,b,*c): #a=a,b=b, 나머지 값음 모두 c\n",
    "    print(a,b,c)\n",
    "    print (a,b,*c)\n",
    "\n",
    "func1(1,2,3)\n",
    "func1(1,2,3,4,5)\n",
    "func1(1,2,3,4,5,6,7)"
   ]
  },
  {
   "cell_type": "code",
   "execution_count": 18,
   "metadata": {},
   "outputs": [
    {
     "name": "stdout",
     "output_type": "stream",
     "text": [
      "1 2 [3]\n",
      "1 2 3\n",
      "1 2 [3, 4, 5]\n",
      "1 2 3 4 5\n",
      "1 2 [3, 4, 5, 6, 7]\n",
      "1 2 3 4 5 6 7\n"
     ]
    }
   ],
   "source": [
    "def func1(*arg): \n",
    "    a,b,*c=arg\n",
    "    print(a,b,c)\n",
    "    print (a,b,*c)\n",
    "\n",
    "func1(1,2,3)\n",
    "func1(1,2,3,4,5)\n",
    "func1(1,2,3,4,5,6,7)"
   ]
  },
  {
   "cell_type": "code",
   "execution_count": 21,
   "metadata": {},
   "outputs": [
    {
     "name": "stdout",
     "output_type": "stream",
     "text": [
      "{'first': 10, 'second': 20, 'third': 30}\n",
      "first:10\n",
      "second:20\n",
      "third:30\n"
     ]
    }
   ],
   "source": [
    "def func2(**kwarg):\n",
    "    print(kwarg)\n",
    "    print(\"first:{first}\".format(**kwarg))\n",
    "    print(\"second:{second}\".format(**kwarg))\n",
    "    print(\"third:{third}\".format(**kwarg))\n",
    "\n",
    "func2(first=10,second=20,third=30)"
   ]
  },
  {
   "cell_type": "code",
   "execution_count": 23,
   "metadata": {},
   "outputs": [
    {
     "name": "stdout",
     "output_type": "stream",
     "text": [
      "a e\n",
      "e a\n"
     ]
    }
   ],
   "source": [
    "a=\"abcde\"\n",
    "print(a[0],a[4])\n",
    "print(a[-1],a[-5])"
   ]
  },
  {
   "cell_type": "code",
   "execution_count": 25,
   "metadata": {},
   "outputs": [
    {
     "name": "stdout",
     "output_type": "stream",
     "text": [
      "H d\n",
      "H e\n"
     ]
    }
   ],
   "source": [
    "a='Hello world'\n",
    "print(a[0],a[10])\n",
    "print(a[-11],a[1])"
   ]
  },
  {
   "cell_type": "code",
   "execution_count": 34,
   "metadata": {},
   "outputs": [
    {
     "name": "stdout",
     "output_type": "stream",
     "text": [
      "el o\n",
      "dlrow olleH\n",
      "Hello world\n",
      "Hlowrd\n",
      " world\n",
      "Hello\n"
     ]
    }
   ],
   "source": [
    "print(a[1:9:2])  #start:stop:step\n",
    "print(a[::-1])  #역순 출력\n",
    "print(a[-50:50])\n",
    "print(a[::2])\n",
    "print(a[5:])\n",
    "print(a[:5])"
   ]
  },
  {
   "cell_type": "code",
   "execution_count": 35,
   "metadata": {},
   "outputs": [
    {
     "name": "stdout",
     "output_type": "stream",
     "text": [
      "team, lab\n",
      "teamteamlablablab\n",
      "team2\n"
     ]
    }
   ],
   "source": [
    "#문자열 연산\n",
    "a='team'\n",
    "b='lab'\n",
    "print(a+\", \"+b)\n",
    "print(a*2+b*3)\n",
    "print(a+str(2))"
   ]
  }
 ],
 "metadata": {
  "kernelspec": {
   "display_name": "base",
   "language": "python",
   "name": "python3"
  },
  "language_info": {
   "codemirror_mode": {
    "name": "ipython",
    "version": 3
   },
   "file_extension": ".py",
   "mimetype": "text/x-python",
   "name": "python",
   "nbconvert_exporter": "python",
   "pygments_lexer": "ipython3",
   "version": "3.12.4"
  }
 },
 "nbformat": 4,
 "nbformat_minor": 2
}
